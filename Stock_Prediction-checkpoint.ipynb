{
 "cells": [
  {
   "cell_type": "code",
   "execution_count": 41,
   "metadata": {},
   "outputs": [],
   "source": [
    "import pandas as pd\n",
    "import quandl, math, datetime\n",
    "import numpy as np\n",
    "from sklearn import preprocessing, model_selection, svm\n",
    "from sklearn.linear_model import LinearRegression\n",
    "import matplotlib.pyplot as plt\n",
    "from matplotlib import style\n",
    "import pickle\n"
   ]
  },
  {
   "cell_type": "code",
   "execution_count": 42,
   "metadata": {},
   "outputs": [],
   "source": [
    "style.use('ggplot')\n",
    "\n",
    "df= quandl.get('WIKI/GOOGL')\n"
   ]
  },
  {
   "cell_type": "code",
   "execution_count": 43,
   "metadata": {},
   "outputs": [],
   "source": [
    "df= df[['Adj. Open' , 'Adj. High',   'Adj. Low' , 'Adj. Close', 'Adj. Volume']] \n"
   ]
  },
  {
   "cell_type": "code",
   "execution_count": 44,
   "metadata": {},
   "outputs": [],
   "source": [
    "df['HL_PCT']=(df['Adj. High']-df['Adj. Low'])/ df['Adj. Low'] *100.0            \n",
    "df['PCT_change']=(df['Adj. Close']-df['Adj. Open'])/ df['Adj. Open'] *100.0\n",
    "\n",
    " #This is the final list of features we will work with\n",
    "df=df[['Adj. Close' , 'HL_PCT',   'PCT_change' , 'Adj. Volume']]               \n"
   ]
  },
  {
   "cell_type": "code",
   "execution_count": 45,
   "metadata": {},
   "outputs": [],
   "source": [
    "forecast_col= 'Adj. Close'          \n",
    "\n",
    "#There are a lot of columns with NA values, we are assigning a -99999 value to it\n",
    "df.fillna(-99999, inplace=True)     \n",
    "\n",
    "# forecast out is the number of days in integer to which we are predicting the value of our label(i.e. forecast_col)\n",
    "# so if the dataframe contains 1000 days of entry, we are choosing 0.01 or 1% i.e. 10 days \n",
    "forecast_out=int(math.ceil(0.01*len(df)))\n"
   ]
  },
  {
   "cell_type": "code",
   "execution_count": 46,
   "metadata": {},
   "outputs": [],
   "source": [
    "df['label']=df[forecast_col].shift(-forecast_out)\n"
   ]
  },
  {
   "cell_type": "code",
   "execution_count": 47,
   "metadata": {},
   "outputs": [],
   "source": [
    "X = np.array(df.drop(['label'], 1)) #Creating the input array, dropping the label column\n",
    "X = preprocessing.scale(X) #preprocessing X i.e. scaling it\n",
    "X_lately = X[-forecast_out :] #Values to which we want to predict \n",
    "X = X[ : -forecast_out] #The new X which contains up until the point we start forecasting\n"
   ]
  },
  {
   "cell_type": "code",
   "execution_count": 48,
   "metadata": {},
   "outputs": [],
   "source": [
    "df.dropna(inplace=True)\n",
    "y=np.array(df['label']) #This is the output array, this only contains the label\n"
   ]
  },
  {
   "cell_type": "code",
   "execution_count": 49,
   "metadata": {},
   "outputs": [],
   "source": [
    "X_train, X_test, y_train, y_test = model_selection.train_test_split(X, y, test_size=0.2)\n"
   ]
  },
  {
   "cell_type": "code",
   "execution_count": 50,
   "metadata": {},
   "outputs": [
    {
     "data": {
      "text/plain": [
       "LinearRegression(copy_X=True, fit_intercept=True, n_jobs=None, normalize=False)"
      ]
     },
     "execution_count": 50,
     "metadata": {},
     "output_type": "execute_result"
    }
   ],
   "source": [
    "clf= LinearRegression() # setting classifier as linear regression\n",
    "clf.fit(X_train,y_train) #performing linear regression\n"
   ]
  },
  {
   "cell_type": "code",
   "execution_count": 51,
   "metadata": {},
   "outputs": [],
   "source": [
    "\n",
    "#Creating a pickle to save the classifier\n",
    "with open('linearregression.pickle', 'wb') as f:\n",
    "\tpickle.dump(clf, f)\n"
   ]
  },
  {
   "cell_type": "code",
   "execution_count": 52,
   "metadata": {},
   "outputs": [],
   "source": [
    "accuracy = clf.score(X_test,y_test) #Calculating the accuracy of the result\n"
   ]
  },
  {
   "cell_type": "code",
   "execution_count": 53,
   "metadata": {},
   "outputs": [],
   "source": [
    "forecast_set = clf.predict(X_lately) #Predicting over the future values that we have set\n"
   ]
  },
  {
   "cell_type": "code",
   "execution_count": 54,
   "metadata": {},
   "outputs": [
    {
     "name": "stdout",
     "output_type": "stream",
     "text": [
      "[1098.998957   1071.45732308 1016.1163637  1056.53536873 1072.95845741\n",
      " 1073.94190536 1091.3439371  1109.80279892 1115.20535719 1122.42718573\n",
      " 1132.10310799 1129.14332331 1148.04334236 1164.56372877 1135.20204849\n",
      " 1121.93652203 1085.67292014 1101.39380058 1113.34818919 1121.58178769\n",
      " 1134.34102163 1150.19154712 1180.38615966 1185.98978168 1155.61575252\n",
      " 1169.06467596 1169.63379536 1152.53442561 1117.02325592 1114.24141954\n",
      " 1113.01414139 1068.61518548 1040.94074048 1068.21457094 1016.1668271 ] 0.9767918910594622 35\n"
     ]
    }
   ],
   "source": [
    "print(forecast_set, accuracy, forecast_out) #Printing the results\n"
   ]
  },
  {
   "cell_type": "code",
   "execution_count": 55,
   "metadata": {},
   "outputs": [],
   "source": [
    "df['Forecast'] = np.nan #A new forecast column which is going to forecast stock prices for the next day\n"
   ]
  },
  {
   "cell_type": "code",
   "execution_count": 56,
   "metadata": {},
   "outputs": [],
   "source": [
    "last_date = df.iloc[-1].name\n",
    "last_unix = last_date.timestamp() # finding the timestamp of the last date of known stock values\n",
    "one_day = 86400 # defining a day in seconds\n",
    "next_unix = last_unix + one_day # Adding a day to last date to get next unix\n"
   ]
  },
  {
   "cell_type": "code",
   "execution_count": 57,
   "metadata": {},
   "outputs": [
    {
     "name": "stdout",
     "output_type": "stream",
     "text": [
      "                     Adj. Close  HL_PCT  PCT_change  Adj. Volume  label  \\\n",
      "Date                                                                      \n",
      "2018-03-08 05:30:00         NaN     NaN         NaN          NaN    NaN   \n",
      "2018-03-09 05:30:00         NaN     NaN         NaN          NaN    NaN   \n",
      "2018-03-10 05:30:00         NaN     NaN         NaN          NaN    NaN   \n",
      "2018-03-11 05:30:00         NaN     NaN         NaN          NaN    NaN   \n",
      "2018-03-12 05:30:00         NaN     NaN         NaN          NaN    NaN   \n",
      "\n",
      "                        Forecast  \n",
      "Date                              \n",
      "2018-03-08 05:30:00  1113.014141  \n",
      "2018-03-09 05:30:00  1068.615185  \n",
      "2018-03-10 05:30:00  1040.940740  \n",
      "2018-03-11 05:30:00  1068.214571  \n",
      "2018-03-12 05:30:00  1016.166827  \n"
     ]
    }
   ],
   "source": [
    "for i in forecast_set:\n",
    "\tnext_date = datetime.datetime.fromtimestamp(next_unix)\n",
    "\tnext_unix += one_day\n",
    "\n",
    "\t#setting all the future X values to nan and attaching all forecast values DATE-WISE\n",
    "\tdf.loc[next_date] = [np.nan for _ in range(len(df.columns)-1)] + [i] \n",
    "\n",
    "print(df.tail()) # To reduce confusion on what the for loop does\n"
   ]
  },
  {
   "cell_type": "code",
   "execution_count": 58,
   "metadata": {},
   "outputs": [
    {
     "data": {
      "image/png": "[encoded data removed]",
      "text/plain": [
       "<Figure size 432x288 with 1 Axes>"
      ]
     },
     "metadata": {},
     "output_type": "display_data"
    }
   ],
   "source": [
    "df['Adj. Close'].plot()\n",
    "df['Forecast'].plot()\n",
    "plt.legend(loc = 4)\n",
    "plt.xlabel('Date')\n",
    "plt.ylabel('Price')\n",
    "plt.show()"
   ]
  }
 ],
 "metadata": {
  "kernelspec": {
   "display_name": "Python 3",
   "language": "python",
   "name": "python3"
  },
  "language_info": {
   "codemirror_mode": {
    "name": "ipython",
    "version": 3
   },
   "file_extension": ".py",
   "mimetype": "text/x-python",
   "name": "python",
   "nbconvert_exporter": "python",
   "pygments_lexer": "ipython3",
   "version": "3.7.3"
  }
 },
 "nbformat": 4,
 "nbformat_minor": 2
}
